{
 "cells": [
  {
   "cell_type": "code",
   "execution_count": 92,
   "id": "6619ee3b-8091-4dd3-b550-7b1edd804559",
   "metadata": {},
   "outputs": [],
   "source": [
    "import pandas as pd\n",
    "import numpy as np\n",
    "import matplotlib.pyplot as plt\n",
    "import math"
   ]
  },
  {
   "cell_type": "code",
   "execution_count": 93,
   "id": "c96695d1-bbf7-4b6c-b1c8-55fb7487b5e9",
   "metadata": {},
   "outputs": [
    {
     "data": {
      "text/html": [
       "<div>\n",
       "<style scoped>\n",
       "    .dataframe tbody tr th:only-of-type {\n",
       "        vertical-align: middle;\n",
       "    }\n",
       "\n",
       "    .dataframe tbody tr th {\n",
       "        vertical-align: top;\n",
       "    }\n",
       "\n",
       "    .dataframe thead th {\n",
       "        text-align: right;\n",
       "    }\n",
       "</style>\n",
       "<table border=\"1\" class=\"dataframe\">\n",
       "  <thead>\n",
       "    <tr style=\"text-align: right;\">\n",
       "      <th></th>\n",
       "      <th>x</th>\n",
       "      <th>y</th>\n",
       "    </tr>\n",
       "  </thead>\n",
       "  <tbody>\n",
       "    <tr>\n",
       "      <th>0</th>\n",
       "      <td>1</td>\n",
       "      <td>1</td>\n",
       "    </tr>\n",
       "    <tr>\n",
       "      <th>1</th>\n",
       "      <td>2</td>\n",
       "      <td>3</td>\n",
       "    </tr>\n",
       "    <tr>\n",
       "      <th>2</th>\n",
       "      <td>4</td>\n",
       "      <td>3</td>\n",
       "    </tr>\n",
       "    <tr>\n",
       "      <th>3</th>\n",
       "      <td>3</td>\n",
       "      <td>2</td>\n",
       "    </tr>\n",
       "    <tr>\n",
       "      <th>4</th>\n",
       "      <td>5</td>\n",
       "      <td>5</td>\n",
       "    </tr>\n",
       "  </tbody>\n",
       "</table>\n",
       "</div>"
      ],
      "text/plain": [
       "   x  y\n",
       "0  1  1\n",
       "1  2  3\n",
       "2  4  3\n",
       "3  3  2\n",
       "4  5  5"
      ]
     },
     "execution_count": 93,
     "metadata": {},
     "output_type": "execute_result"
    }
   ],
   "source": [
    "rawdata = {'x': [1, 2, 4, 3, 5], 'y': [1, 3, 3, 2, 5]}\n",
    "df = pd.DataFrame(rawdata)\n",
    "df"
   ]
  },
  {
   "cell_type": "code",
   "execution_count": 94,
   "id": "efec2aa5-926d-4454-ad2c-0b9029ed70ca",
   "metadata": {},
   "outputs": [],
   "source": [
    "df.to_csv('rawdata.csv', index=False)"
   ]
  },
  {
   "cell_type": "code",
   "execution_count": 95,
   "id": "144e2c3b-3fec-432d-b3e3-0a2489ff810b",
   "metadata": {},
   "outputs": [
    {
     "data": {
      "image/png": "[encoded data removed]",
      "text/plain": [
       "<Figure size 640x480 with 1 Axes>"
      ]
     },
     "metadata": {},
     "output_type": "display_data"
    }
   ],
   "source": [
    "data = pd.read_csv('rawdata.csv')\n",
    "y = data ['y']\n",
    "x1 = data ['x']\n",
    "plt.scatter(x1,y)\n",
    "plt.xlabel('x', fontsize = 20)\n",
    "plt.ylabel('y', fontsize = 20)\n",
    "plt.grid()\n",
    "plt.show()"
   ]
  },
  {
   "cell_type": "markdown",
   "id": "8f262818-c161-4026-8144-dc71ffc41b58",
   "metadata": {},
   "source": [
    "### Simple linear regression equation  \n",
    "$y = B0 + B1 \\times x$  \n",
    "y is the output variable we want to predict  \n",
    "x is the input variable we know  \n",
    "B0 (intercept) is the bias  \n",
    "B1 is the slope  "
   ]
  },
  {
   "cell_type": "markdown",
   "id": "7b973a80-2012-4858-ab70-9da938d59fe5",
   "metadata": {},
   "source": [
    "**To estimate B1:**  \n",
    "$B1 = \\Sigma \\frac{(x_i - mean(x)) \\times (y_i-mean(y))}{\\Sigma (x_i - mean(x))^2}$  \n",
    "where x_i and y_i means using all different values of x and y where i means the i'th value of x and y\n",
    "\n",
    "**To estimate B0:**  \n",
    "$B0 = mean(y) - B1 \\times mean(x)$"
   ]
  },
  {
   "cell_type": "markdown",
   "id": "313ddaaa-2b84-4f82-a2bd-88b856395689",
   "metadata": {},
   "source": [
    "### Estimating B1\n",
    "[23] - [43]  \n",
    "$mean = \\frac{1}{n} \\times \\Sigma x$  \n",
    "This can be calculated using the mean command using pandas"
   ]
  },
  {
   "cell_type": "code",
   "execution_count": 96,
   "id": "64adb65b-cdfb-4287-85a9-0ccc8021cd01",
   "metadata": {},
   "outputs": [
    {
     "name": "stdout",
     "output_type": "stream",
     "text": [
      "3.0\n"
     ]
    }
   ],
   "source": [
    "mean_x = df['x'].mean() # calculating mean(x)\n",
    "print(mean_x)"
   ]
  },
  {
   "cell_type": "code",
   "execution_count": 97,
   "id": "f259a50f-5f58-4e40-90b7-e324d9d7b523",
   "metadata": {},
   "outputs": [
    {
     "name": "stdout",
     "output_type": "stream",
     "text": [
      "   x  y  x-mean_x\n",
      "0  1  1      -2.0\n",
      "1  2  3      -1.0\n",
      "2  4  3       1.0\n",
      "3  3  2       0.0\n",
      "4  5  5       2.0\n"
     ]
    }
   ],
   "source": [
    "def xminusmeanx(row):\n",
    "    return row['x']-mean_x # calculates x - mean(x) for every value of x\n",
    "\n",
    "df['x-mean_x'] = df.apply(xminusmeanx, axis=1) # adds a column (as seen by axis=1) to df with the values calculated by the function above\n",
    "print(df)"
   ]
  },
  {
   "cell_type": "code",
   "execution_count": 98,
   "id": "f8509cb2-2aec-4bd0-8ce4-33cb60f05188",
   "metadata": {},
   "outputs": [
    {
     "name": "stdout",
     "output_type": "stream",
     "text": [
      "   x  y  x-mean_x  y-mean_y\n",
      "0  1  1      -2.0      -1.8\n",
      "1  2  3      -1.0       0.2\n",
      "2  4  3       1.0       0.2\n",
      "3  3  2       0.0      -0.8\n",
      "4  5  5       2.0       2.2\n"
     ]
    }
   ],
   "source": [
    "mean_y = df['y'].mean()\n",
    "def yminusmeany(row):\n",
    "    return row['y']-mean_y\n",
    "\n",
    "df['y-mean_y'] = df.apply(yminusmeany, axis=1)\n",
    "print(df)"
   ]
  },
  {
   "cell_type": "code",
   "execution_count": 99,
   "id": "04e0e907-95e9-452f-9b5a-4e873369bdf6",
   "metadata": {},
   "outputs": [
    {
     "name": "stdout",
     "output_type": "stream",
     "text": [
      "   x  y  x-mean_x  y-mean_y  multiply\n",
      "0  1  1      -2.0      -1.8       3.6\n",
      "1  2  3      -1.0       0.2      -0.2\n",
      "2  4  3       1.0       0.2       0.2\n",
      "3  3  2       0.0      -0.8      -0.0\n",
      "4  5  5       2.0       2.2       4.4\n"
     ]
    }
   ],
   "source": [
    "def multiply(row):\n",
    "    return row['x-mean_x']*row['y-mean_y']\n",
    "\n",
    "df['multiply'] = df.apply(multiply, axis=1)\n",
    "print(df)"
   ]
  },
  {
   "cell_type": "code",
   "execution_count": 100,
   "id": "276a1cd7-25ae-418f-b4b0-f2bcba9903bb",
   "metadata": {},
   "outputs": [
    {
     "name": "stdout",
     "output_type": "stream",
     "text": [
      "numerator = 8.0\n"
     ]
    }
   ],
   "source": [
    "numerator = df['multiply'].sum()\n",
    "print(f\"numerator = {numerator}\")"
   ]
  },
  {
   "cell_type": "code",
   "execution_count": 101,
   "id": "f77d1489-3e56-4f02-922f-5a1f7c093e9e",
   "metadata": {},
   "outputs": [
    {
     "name": "stdout",
     "output_type": "stream",
     "text": [
      "   x  y  x-mean_x  y-mean_y  multiply  (x - mean_x)^2\n",
      "0  1  1      -2.0      -1.8       3.6             4.0\n",
      "1  2  3      -1.0       0.2      -0.2             1.0\n",
      "2  4  3       1.0       0.2       0.2             1.0\n",
      "3  3  2       0.0      -0.8      -0.0             0.0\n",
      "4  5  5       2.0       2.2       4.4             4.0\n"
     ]
    }
   ],
   "source": [
    "def squared(row):\n",
    "    return (row['x-mean_x'])**2\n",
    "\n",
    "df['(x - mean_x)^2'] = df.apply(squared, axis=1)\n",
    "print(df)"
   ]
  },
  {
   "cell_type": "code",
   "execution_count": 102,
   "id": "4f2c3c24-5402-4488-839e-ef9d67616ad6",
   "metadata": {},
   "outputs": [
    {
     "name": "stdout",
     "output_type": "stream",
     "text": [
      "denominator = 10.0\n"
     ]
    }
   ],
   "source": [
    "denominator = df['(x - mean_x)^2'].sum()\n",
    "print(f\"denominator = {denominator}\")"
   ]
  },
  {
   "cell_type": "markdown",
   "id": "15cd6b3e-4956-4cb1-9b2f-39e924e051c5",
   "metadata": {},
   "source": [
    "Thus $B1 = \\frac{8}{10}$"
   ]
  },
  {
   "cell_type": "code",
   "execution_count": 103,
   "id": "d46edebf-f6ef-440f-81c1-36da1d5ffe56",
   "metadata": {},
   "outputs": [
    {
     "name": "stdout",
     "output_type": "stream",
     "text": [
      "B1 = 0.8\n"
     ]
    }
   ],
   "source": [
    "B1 = numerator/denominator\n",
    "print(f\"B1 = {B1}\")"
   ]
  },
  {
   "cell_type": "markdown",
   "id": "4b8e7b11-ae54-403e-9079-3f9c48d95bad",
   "metadata": {},
   "source": [
    "### Calculating B0  \n",
    "Reminder: $B0 = mean(y) - B1 \\times mean(x)$"
   ]
  },
  {
   "cell_type": "code",
   "execution_count": 104,
   "id": "a1a4e080-e6c8-4ade-8e4a-b4d83253e98b",
   "metadata": {},
   "outputs": [
    {
     "name": "stdout",
     "output_type": "stream",
     "text": [
      "B0 = 0.39999999999999947\n"
     ]
    }
   ],
   "source": [
    "B0 = mean_y-B1*mean_x\n",
    "print(f\"B0 = {B0}\")"
   ]
  },
  {
   "cell_type": "markdown",
   "id": "c363ca5c-34d5-4505-a3ac-f9b629ad7a4e",
   "metadata": {},
   "source": [
    "Floating point error! So must round B0 to 2SF"
   ]
  },
  {
   "cell_type": "code",
   "execution_count": 105,
   "id": "2a4692fc-a6ea-4867-a70b-c6202f5d93d9",
   "metadata": {},
   "outputs": [
    {
     "name": "stdout",
     "output_type": "stream",
     "text": [
      "B0 = 0.4\n"
     ]
    }
   ],
   "source": [
    "B0 = round(B0, 2) # 2 is the number of sig fig\n",
    "print(f\"B0 = {B0}\")"
   ]
  },
  {
   "cell_type": "markdown",
   "id": "bb69adb4-f3ce-4d0b-ab04-6a5bcf6e670c",
   "metadata": {},
   "source": [
    "### Forming the equation  \n",
    "We now know that  \n",
    "$y = B0 + B1 \\times x$  \n",
    "is equal to  \n",
    "$y = 0.4 + 0.8 \\times x$"
   ]
  },
  {
   "cell_type": "code",
   "execution_count": 106,
   "id": "b019ca77-6535-4ff5-86d6-b81c63db4100",
   "metadata": {},
   "outputs": [
    {
     "name": "stdout",
     "output_type": "stream",
     "text": [
      "   x  y  x-mean_x  y-mean_y  multiply  (x - mean_x)^2  predicted y\n",
      "0  1  1      -2.0      -1.8       3.6             4.0          1.2\n",
      "1  2  3      -1.0       0.2      -0.2             1.0          2.0\n",
      "2  4  3       1.0       0.2       0.2             1.0          3.6\n",
      "3  3  2       0.0      -0.8      -0.0             0.0          2.8\n",
      "4  5  5       2.0       2.2       4.4             4.0          4.4\n"
     ]
    }
   ],
   "source": [
    "def predy(row):\n",
    "    return 0.4+0.8*row['x']\n",
    "\n",
    "df['predicted y'] = df.apply(predy, axis=1)\n",
    "print(df)"
   ]
  },
  {
   "cell_type": "code",
   "execution_count": 107,
   "id": "af2b5a93-f12d-4ebe-85cd-8d45866d9221",
   "metadata": {},
   "outputs": [
    {
     "data": {
      "image/png": "[encoded data removed]",
      "text/plain": [
       "<Figure size 640x480 with 1 Axes>"
      ]
     },
     "metadata": {},
     "output_type": "display_data"
    }
   ],
   "source": [
    "plt.scatter(x1, y)\n",
    "yhat = B0 + B1*x1\n",
    "fig = plt.plot(x1, yhat, lw=4, c='orange', label='regression line')\n",
    "plt.xlabel('x', fontsize=20)\n",
    "plt.ylabel('y', fontsize=20)\n",
    "plt.grid()\n",
    "plt.show()"
   ]
  },
  {
   "cell_type": "markdown",
   "id": "58a4f1fd-913b-41b2-ae8a-0261cd83ae8e",
   "metadata": {},
   "source": [
    "### Estimating error  \n",
    "Calculated using Root Mean Squared Error (RMSE)   \n",
    "$RMSE = \\sqrt{\\frac{\\Sigma(p_i-y_i)^2}{n}}$  \n",
    "where p is the predicted value and n is the number of predictions"
   ]
  },
  {
   "cell_type": "code",
   "execution_count": 108,
   "id": "b9f1ee40-f2a5-4383-8f98-8dbbc5221419",
   "metadata": {},
   "outputs": [
    {
     "name": "stdout",
     "output_type": "stream",
     "text": [
      "   x  y  x-mean_x  y-mean_y  multiply  (x - mean_x)^2  predicted y  (p - y)^2\n",
      "0  1  1      -2.0      -1.8       3.6             4.0          1.2       0.04\n",
      "1  2  3      -1.0       0.2      -0.2             1.0          2.0       1.00\n",
      "2  4  3       1.0       0.2       0.2             1.0          3.6       0.36\n",
      "3  3  2       0.0      -0.8      -0.0             0.0          2.8       0.64\n",
      "4  5  5       2.0       2.2       4.4             4.0          4.4       0.36\n"
     ]
    }
   ],
   "source": [
    "def p_minus_y_squared(row):\n",
    "    return (row['predicted y']-row['y'])**2\n",
    "\n",
    "df['(p - y)^2'] = df.apply(p_minus_y_squared, axis=1)\n",
    "print(df)"
   ]
  },
  {
   "cell_type": "code",
   "execution_count": 112,
   "id": "f8cec1d1-81ce-48e6-b99f-025f065e3d72",
   "metadata": {},
   "outputs": [
    {
     "name": "stdout",
     "output_type": "stream",
     "text": [
      "0.693\n"
     ]
    }
   ],
   "source": [
    "rmse_numerator = df['(p - y)^2'].sum()\n",
    "n = len(df)\n",
    "rmse = math.sqrt(rmse_numerator/n)\n",
    "rmse = round(rmse, 3)\n",
    "print(rmse)"
   ]
  },
  {
   "cell_type": "markdown",
   "id": "2cf0e500-a37a-4fa1-ba67-72f3dd23d713",
   "metadata": {},
   "source": [
    "Thus each prediction is wrong by about 0.693 units"
   ]
  }
 ],
 "metadata": {
  "kernelspec": {
   "display_name": "venv",
   "language": "python",
   "name": "venv"
  },
  "language_info": {
   "codemirror_mode": {
    "name": "ipython",
    "version": 3
   },
   "file_extension": ".py",
   "mimetype": "text/x-python",
   "name": "python",
   "nbconvert_exporter": "python",
   "pygments_lexer": "ipython3",
   "version": "3.10.12"
  }
 },
 "nbformat": 4,
 "nbformat_minor": 5
}
